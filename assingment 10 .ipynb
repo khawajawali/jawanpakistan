{
 "cells": [
  {
   "cell_type": "markdown",
   "id": "6c75ecdd-99a3-4fba-8917-a05c152bb274",
   "metadata": {},
   "source": [
    "# 1.1"
   ]
  },
  {
   "cell_type": "code",
   "execution_count": 9,
   "id": "d786217e-ddf2-4289-b739-d547e98d323b",
   "metadata": {},
   "outputs": [
    {
     "name": "stdout",
     "output_type": "stream",
     "text": [
      "* \n",
      "* * \n",
      "* * * \n",
      "* * * * \n",
      "* * * * * \n",
      "* * * * \n",
      "* * * \n",
      "* * \n",
      "* \n"
     ]
    }
   ],
   "source": [
    "num_rows = 5\n",
    "\n",
    "for i in range(1, num_rows + 1):\n",
    "    for j in range(i):\n",
    "        print('*', end=' ')\n",
    "    print() \n",
    "\n",
    "for i in range(num_rows - 1, 0, -1):\n",
    "    for j in range(i):\n",
    "        print('*', end=' ')\n",
    "    print()  "
   ]
  },
  {
   "cell_type": "markdown",
   "id": "b4a6f25b-e78c-41d3-a935-34867ddbbfb7",
   "metadata": {},
   "source": [
    "# 1.3"
   ]
  },
  {
   "cell_type": "code",
   "execution_count": 12,
   "id": "f776e01c-c5c0-47f5-a5a3-d1bf80471034",
   "metadata": {},
   "outputs": [
    {
     "name": "stdin",
     "output_type": "stream",
     "text": [
      "enter any number:  6\n"
     ]
    },
    {
     "name": "stdout",
     "output_type": "stream",
     "text": [
      "6\n",
      "12\n",
      "18\n",
      "24\n",
      "30\n",
      "36\n",
      "42\n",
      "48\n",
      "54\n",
      "60\n"
     ]
    }
   ],
   "source": [
    "i = 1\n",
    "n = int(input(\"enter any number: \" ))\n",
    "while i <=10:\n",
    "    print(n*i)\n",
    "    i+=1"
   ]
  },
  {
   "cell_type": "code",
   "execution_count": 20,
   "id": "a37fab9f-0800-460c-a4f0-66dfae767878",
   "metadata": {},
   "outputs": [
    {
     "data": {
      "text/plain": [
       "{'hight': 6.2, 'weight': '70k'}"
      ]
     },
     "execution_count": 20,
     "metadata": {},
     "output_type": "execute_result"
    }
   ],
   "source": [
    "size = {\n",
    "    \"cierra vega\" :{\"hight\" : 6.2, \"weight\" : \"70k\"},\n",
    "    \"Alden Cantrell\" :{\"hight\" : 5.9, \"weight\" : \"65k\"},\n",
    "    \"Kierra Gentry\" :{\"hight\" : 6.0, \"weight\" : \"68k\"},\n",
    "    \"Pierre Cox\": {\"hight\" : 5.8, \"weight\" : \"66k\"}\n",
    "}\n",
    "size['cierra vega']\n"
   ]
  },
  {
   "cell_type": "code",
   "execution_count": 21,
   "id": "d50a366d-02de-4b15-bad9-c3dd211aedb3",
   "metadata": {},
   "outputs": [
    {
     "name": "stdout",
     "output_type": "stream",
     "text": [
      "The Nile runs through Egypt.\n",
      "The Amazon runs through Brazil.\n",
      "The Yangtze runs through China.\n",
      "\n",
      "Rivers:\n",
      "Nile\n",
      "Amazon\n",
      "Yangtze\n",
      "\n",
      "Countries:\n",
      "Egypt\n",
      "Brazil\n",
      "China\n"
     ]
    }
   ],
   "source": [
    "rivers = {\n",
    "    'Nile': 'Egypt',\n",
    "    'Amazon': 'Brazil',\n",
    "    'Yangtze': 'China'\n",
    "}\n",
    "\n",
    "for river, country in rivers.items():\n",
    "    print(f\"The {river} runs through {country}.\")\n",
    "\n",
    "print() \n",
    "\n",
    "print(\"Rivers:\")\n",
    "for river in rivers:\n",
    "    print(river)\n",
    "\n",
    "print()\n",
    "\n",
    "print(\"Countries:\")\n",
    "for country in rivers.values():\n",
    "    print(country)\n"
   ]
  },
  {
   "cell_type": "code",
   "execution_count": 32,
   "id": "66bb45e8-5566-4265-a5d0-27b32e9fff45",
   "metadata": {},
   "outputs": [
    {
     "name": "stdin",
     "output_type": "stream",
     "text": [
      "Enter your age (or type '-1' to exit):  3\n"
     ]
    },
    {
     "name": "stdout",
     "output_type": "stream",
     "text": [
      "The ticket price for age 3 is $10.\n"
     ]
    },
    {
     "name": "stdin",
     "output_type": "stream",
     "text": [
      "Enter your age (or type '-1' to exit):  -1\n"
     ]
    },
    {
     "name": "stdout",
     "output_type": "stream",
     "text": [
      "Exiting the ticket price calculator.\n"
     ]
    }
   ],
   "source": [
    "def get_ticket_price(age):\n",
    "\n",
    "    \n",
    "    if age < 3:\n",
    "        return 0  # Free\n",
    "    elif 3 <= age <= 12:\n",
    "        return 10 \n",
    "    else:\n",
    "        return 15 \n",
    "\n",
    "while True:\n",
    "    try:\n",
    "        age = int(input(\"Enter your age (or type '-1' to exit): \"))\n",
    "        \n",
    "        if age == -1:\n",
    "            print(\"Exiting the ticket price calculator.\")\n",
    "            break\n",
    "\n",
    "        ticket_price = get_ticket_price(age)\n",
    "        \n",
    "        print(f\"The ticket price for age {age} is ${ticket_price}.\")\n",
    "    \n",
    "    except ValueError:\n",
    "        print(\"Invalid input. Please enter a number.\")\n",
    "\n"
   ]
  },
  {
   "cell_type": "code",
   "execution_count": null,
   "id": "555865c2-dd37-4d47-affa-2028113ad1fc",
   "metadata": {},
   "outputs": [],
   "source": []
  }
 ],
 "metadata": {
  "kernelspec": {
   "display_name": "Python 3 (ipykernel)",
   "language": "python",
   "name": "python3"
  },
  "language_info": {
   "codemirror_mode": {
    "name": "ipython",
    "version": 3
   },
   "file_extension": ".py",
   "mimetype": "text/x-python",
   "name": "python",
   "nbconvert_exporter": "python",
   "pygments_lexer": "ipython3",
   "version": "3.12.4"
  }
 },
 "nbformat": 4,
 "nbformat_minor": 5
}
