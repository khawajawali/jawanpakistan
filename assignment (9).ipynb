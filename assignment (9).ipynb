{
 "cells": [
  {
   "cell_type": "markdown",
   "id": "0eac8f40-1d6d-4d73-84b3-0dfb6188e9b0",
   "metadata": {},
   "source": [
    "# 1.1"
   ]
  },
  {
   "cell_type": "code",
   "execution_count": 24,
   "id": "d19c3ee9-63de-47e6-829f-a21886426149",
   "metadata": {},
   "outputs": [
    {
     "data": {
      "text/plain": [
       "({'id': 1234, 'name': 'zain', 'department': 'salaes department'},\n",
       " {'id': 2494, 'name': 'amir', 'department': 'fire department'},\n",
       " {'id': 9843, 'name': 'hamza', 'department': 'HR department'})"
      ]
     },
     "execution_count": 24,
     "metadata": {},
     "output_type": "execute_result"
    }
   ],
   "source": [
    "employee1 ={\n",
    "    \"id\" : 1234,\n",
    "    \"name\" : \"zain\",\n",
    "    \"department\": \"salaes department\",\n",
    "}\n",
    "employee2 = {\n",
    "    \"id\" : 2494,\n",
    "    \"name\" : \"amir\",\n",
    "    \"department\": \"fire department\",\n",
    "}\n",
    "employee3 = {\n",
    "    \"id\" : 9843,\n",
    "    \"name\" : \"hamza\",\n",
    "    \"department\": \"HR department\"\n",
    "}\n",
    "employee1, employee2, employee3"
   ]
  },
  {
   "cell_type": "markdown",
   "id": "824aef88-2539-4cef-b285-dc1e3c58fdaa",
   "metadata": {},
   "source": [
    "# 1.3"
   ]
  },
  {
   "cell_type": "code",
   "execution_count": 36,
   "id": "27fd0acf-799b-4604-a46f-e2c27884b9b2",
   "metadata": {},
   "outputs": [
    {
     "data": {
      "text/plain": [
       "({'date': 12.3, 'time': '5pm'},\n",
       " {'date': 13.3, 'time': '2pm'},\n",
       " {'date': 35.3, 'time': '11am'})"
      ]
     },
     "execution_count": 36,
     "metadata": {},
     "output_type": "execute_result"
    }
   ],
   "source": [
    "meeting1 ={\n",
    "    \"date\": 12.3,\n",
    "    \"time\": \"5pm\"\n",
    "}\n",
    "meeting2 =  {\n",
    "     \"date\": 13.3,\n",
    "    \"time\": \"2pm\"\n",
    "}\n",
    "appointment = {\n",
    "    \"date\": 35.3,\n",
    "    \"time\": \"11am\"\n",
    "}\n",
    "meeting1, meeting2, appointment\n"
   ]
  },
  {
   "cell_type": "code",
   "execution_count": 37,
   "id": "07b2449d-fb02-4bde-879f-20802236c763",
   "metadata": {},
   "outputs": [
    {
     "data": {
      "text/plain": [
       "'2pm'"
      ]
     },
     "execution_count": 37,
     "metadata": {},
     "output_type": "execute_result"
    }
   ],
   "source": [
    "meeting2[\"time\"]"
   ]
  },
  {
   "cell_type": "markdown",
   "id": "d8aacc85-e04d-43ac-9d1a-d1b1d34cf13d",
   "metadata": {},
   "source": [
    "# 1.2"
   ]
  },
  {
   "cell_type": "code",
   "execution_count": 40,
   "id": "4296a5ed-c7c9-4536-af6b-411d037d0f72",
   "metadata": {},
   "outputs": [
    {
     "data": {
      "text/plain": [
       "({'id': 786,\n",
       "  'description': 'High-quality wireless mouse with ergonomic design.',\n",
       "  'quantity': 50},\n",
       " {'id': 876,\n",
       "  'description': 'Portable external hard drive with 1TB storage capacity.',\n",
       "  'quantity': 20},\n",
       " {'id': 678,\n",
       "  'description': 'Bluetooth headphones with noise-canceling feature.',\n",
       "  'quantity': 5})"
      ]
     },
     "execution_count": 40,
     "metadata": {},
     "output_type": "execute_result"
    }
   ],
   "source": [
    "item1 = {\n",
    "    \"id\" : 786,\n",
    "    \"description\":  \"High-quality wireless mouse with ergonomic design.\",\n",
    "    \"quantity\" : 50\n",
    "}\n",
    "item2 = {\n",
    "    \"id\" : 876,\n",
    "    \"description\":\"Portable external hard drive with 1TB storage capacity.\",\n",
    "    \"quantity\" : 20\n",
    "}\n",
    "item3 = {\n",
    "    \"id\" : 678,\n",
    "    \"description\":\"Bluetooth headphones with noise-canceling feature.\",\n",
    "    \"quantity\" : 5\n",
    "}\n",
    "item1, item2, item3\n",
    "\n"
   ]
  },
  {
   "cell_type": "code",
   "execution_count": 42,
   "id": "3a4685a3-712b-4ea2-a3fd-c4f776923fbb",
   "metadata": {},
   "outputs": [
    {
     "data": {
      "text/plain": [
       "'Bluetooth headphones with noise-canceling feature.'"
      ]
     },
     "execution_count": 42,
     "metadata": {},
     "output_type": "execute_result"
    }
   ],
   "source": [
    "item3[\"description\"]"
   ]
  },
  {
   "cell_type": "markdown",
   "id": "05c55260-003c-4d3d-b88b-cc8b2dad158e",
   "metadata": {},
   "source": [
    "# 1.4"
   ]
  },
  {
   "cell_type": "code",
   "execution_count": 48,
   "id": "31170066-df56-4a9f-accf-23f9083214e8",
   "metadata": {},
   "outputs": [
    {
     "data": {
      "text/plain": [
       "{42334: {'name': 'wali', 'department': ' HR department', 'salary': '50k'},\n",
       " 42335: {'name': 'hamza', 'department': 'sales department', 'salary': '40k'}}"
      ]
     },
     "execution_count": 48,
     "metadata": {},
     "output_type": "execute_result"
    }
   ],
   "source": [
    "company_emplo = {\n",
    "    42334 :{ \"name\" : \"wali\", \"department\" :\" HR department\", \"salary\" : \"50k\"},\n",
    "    42335 :{ \"name\" : \"hamza\", \"department\" : \"sales department\", \"salary\" : \"40k\"}\n",
    "}\n",
    "company_emplo"
   ]
  },
  {
   "cell_type": "markdown",
   "id": "ec2fd5a5-bdb7-4f56-aaa3-46d1e7fc53a4",
   "metadata": {},
   "source": [
    "# 1.7"
   ]
  },
  {
   "cell_type": "code",
   "execution_count": 81,
   "id": "7540e8ea-d7bd-4bf3-8ee1-a6a4779be2bb",
   "metadata": {},
   "outputs": [
    {
     "data": {
      "text/plain": [
       "{'description': 'Introduction to Python syntax', 'duration': '3 hours'}"
      ]
     },
     "execution_count": 81,
     "metadata": {},
     "output_type": "execute_result"
    }
   ],
   "source": [
    "course1 = {\n",
    "    \"title1\" : {\"description\" : \"Introduction to Python syntax\", \"duration\":\"3 hours\"},\n",
    "    \"title2\" : {\"description\" : \"Learning about lists, dictionaries, sets, tuples\", \"duration\" : \" 2 hours\"},\n",
    "    \"title3\": {\"description\" : \"Deep dive into classes and objects in Python\", \"duration\" : \" 2 hours\"}\n",
    "}\n",
    "\n",
    "course1[\"title1\"]"
   ]
  },
  {
   "cell_type": "markdown",
   "id": "45cf35ba-d0eb-45f7-99aa-99131d65c7a7",
   "metadata": {},
   "source": [
    "# 1.6"
   ]
  },
  {
   "cell_type": "code",
   "execution_count": 84,
   "id": "a9380673-2e0e-4642-baa8-e8ec5f893012",
   "metadata": {},
   "outputs": [
    {
     "data": {
      "text/plain": [
       "{'alpha project': ['designe', 'develope', 'research', 'test', 'prototype'],\n",
       " 'beeta project': ['review', 'planning', 'execution', 'finalize']}"
      ]
     },
     "execution_count": 84,
     "metadata": {},
     "output_type": "execute_result"
    }
   ],
   "source": [
    "projects = {\n",
    "    \"alpha project\" :[\"designe\", \"develope\", \"research\", \"test\", \"prototype\"],\n",
    "    \"beeta project\" :[\"review\", \"planning\",\"execution\",\"finalize\"]\n",
    "}\n",
    "projects"
   ]
  },
  {
   "cell_type": "code",
   "execution_count": 85,
   "id": "2f2abdea-42b2-4e18-a47f-02932c8c3a70",
   "metadata": {},
   "outputs": [
    {
     "data": {
      "text/plain": [
       "['designe', 'develope', 'research', 'test', 'prototype']"
      ]
     },
     "execution_count": 85,
     "metadata": {},
     "output_type": "execute_result"
    }
   ],
   "source": [
    "projects[\"alpha project\"]"
   ]
  },
  {
   "cell_type": "markdown",
   "id": "59f1b45c-494c-43cc-b06a-426d9128f98f",
   "metadata": {},
   "source": [
    "# 1.5"
   ]
  },
  {
   "cell_type": "code",
   "execution_count": 87,
   "id": "84723993-a962-4655-8e10-528e8da6d5da",
   "metadata": {},
   "outputs": [
    {
     "data": {
      "text/plain": [
       "[{'name': 'wali', 'scores': {'Math': 85, 'Science': 92, 'English': 88}},\n",
       " {'name': 'asim', 'scores': {'Math': 76, 'Science': 56, 'English': 98}},\n",
       " {'name': 'sohail', 'scores': {'Math': 80, 'Science': 72, 'English': 86}}]"
      ]
     },
     "execution_count": 87,
     "metadata": {},
     "output_type": "execute_result"
    }
   ],
   "source": [
    "students_scores = [\n",
    "    {\"name\": \"wali\", \"scores\":{\"Math\": 85, \"Science\": 92, \"English\": 88}},\n",
    "    {\"name\": \"asim\", \"scores\":{\"Math\": 76, \"Science\": 56, \"English\": 98}},\n",
    "    {\"name\": \"sohail\", \"scores\":{\"Math\": 80, \"Science\": 72, \"English\": 86}}\n",
    "]\n",
    "students_scores\n"
   ]
  },
  {
   "cell_type": "code",
   "execution_count": null,
   "id": "d97f9a1f-cca6-4268-9aed-53ca6755cda7",
   "metadata": {},
   "outputs": [],
   "source": []
  }
 ],
 "metadata": {
  "kernelspec": {
   "display_name": "Python 3 (ipykernel)",
   "language": "python",
   "name": "python3"
  },
  "language_info": {
   "codemirror_mode": {
    "name": "ipython",
    "version": 3
   },
   "file_extension": ".py",
   "mimetype": "text/x-python",
   "name": "python",
   "nbconvert_exporter": "python",
   "pygments_lexer": "ipython3",
   "version": "3.12.4"
  }
 },
 "nbformat": 4,
 "nbformat_minor": 5
}
