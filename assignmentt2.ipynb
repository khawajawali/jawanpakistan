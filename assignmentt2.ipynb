{
 "cells": [
  {
   "cell_type": "code",
   "execution_count": 2,
   "id": "bbf099b5-6257-4381-9e3b-a69d8dd078d0",
   "metadata": {},
   "outputs": [],
   "source": [
    "import csv\n"
   ]
  },
  {
   "cell_type": "code",
   "execution_count": 3,
   "id": "c12b53e4-cb0c-4833-a322-a92955d304f5",
   "metadata": {},
   "outputs": [
    {
     "data": {
      "text/plain": [
       "<_io.TextIOWrapper name='student data.csv' mode='r' encoding='cp1252'>"
      ]
     },
     "execution_count": 3,
     "metadata": {},
     "output_type": "execute_result"
    }
   ],
   "source": [
    "open_file = open('student data.csv',mode='r')\n",
    "open_file"
   ]
  },
  {
   "cell_type": "code",
   "execution_count": 4,
   "id": "03ddf3f7-4c9e-4602-9dc1-37256df46589",
   "metadata": {},
   "outputs": [
    {
     "data": {
      "text/plain": [
       "<_csv.reader at 0x1bc95283f40>"
      ]
     },
     "execution_count": 4,
     "metadata": {},
     "output_type": "execute_result"
    }
   ],
   "source": [
    "read = csv.reader(open_file)\n",
    "read"
   ]
  },
  {
   "cell_type": "code",
   "execution_count": 5,
   "id": "e177fd31-16dc-4cfb-ab64-3e7456c634d7",
   "metadata": {},
   "outputs": [
    {
     "data": {
      "text/plain": [
       "[['roll no', 'Name', 'Chemistry', 'Physics', 'Math'],\n",
       " ['101', 'Aliza', '50', '23', '87'],\n",
       " ['102', 'Fareed', '45', '24', '88'],\n",
       " ['103', 'Basit', '46', '25', '89'],\n",
       " ['104', 'Abdullah', '47', '26', '90'],\n",
       " ['105', 'Ali', '48', '27', '67'],\n",
       " ['106', 'Mubashir', '49', '28', '68'],\n",
       " ['107', 'Waleed', '50', '29', '69'],\n",
       " ['108', 'Mansoor', '51', '30', '70'],\n",
       " ['109', 'Zain', '52', '31', '71'],\n",
       " ['110', 'Mohsin', '53', '67', '72'],\n",
       " ['111', 'Shahmeer', '54', '68', '73'],\n",
       " ['112', 'Rao', '55', '69', '74'],\n",
       " ['113', 'Aurangzeb', '56', '70', '75'],\n",
       " ['114', 'Zeeshan', '57', '71', '76'],\n",
       " ['115', 'Hamna', '58', '72', '77'],\n",
       " ['116', 'Hamza', '59', '73', '78'],\n",
       " ['117', 'Khalid', '60', '74', '79'],\n",
       " ['118', 'Behroz', '61', '75', '80'],\n",
       " ['119', 'Justin', '62', '76', '81'],\n",
       " ['120', 'Danish', '63', '77', '82'],\n",
       " ['121', 'Kainat', '64', '78', '83'],\n",
       " ['122', 'Sameer', '65', '79', '84'],\n",
       " ['123', 'Raza', '66', '80', '85'],\n",
       " ['124', 'Kumar', '67', '81', '86'],\n",
       " ['125', 'Komal', '68', '82', '87'],\n",
       " ['126', 'Erum', '69', '83', '88'],\n",
       " ['127', 'Faiza', '70', '84', '89'],\n",
       " ['128', 'Saeed', '71', '85', '90'],\n",
       " ['129', 'Waqar', '72', '86', '91'],\n",
       " ['130', 'Wali', '73', '87', '92'],\n",
       " ['131', 'Wajid', '74', '88', '93'],\n",
       " ['132', 'Waseeb', '75', '89', '94'],\n",
       " ['133', 'Shiza', '76', '90', '95'],\n",
       " ['134', 'Shabina', '77', '91', '96'],\n",
       " ['135', 'Shazain', '78', '55', '97'],\n",
       " ['136', 'Lubna', '79', '61', '98'],\n",
       " ['137', 'Laiba', '80', '88', '78'],\n",
       " ['138', 'Khursheed', '81', '56', '45'],\n",
       " ['139', 'Ali', '82', '89', '46'],\n",
       " ['140', 'Aiza', '83', '45', '89'],\n",
       " ['141', 'Aiman', '84', '92', '78'],\n",
       " ['142', 'Yasmeen', '85', '36', '56'],\n",
       " ['143', 'Tasbeel', '86', '78', '78'],\n",
       " ['144', 'Laraib', '87', '56', '54'],\n",
       " ['145', 'Saleem', '88', '78', '78'],\n",
       " ['146', 'Bismil', '89', '89', '46'],\n",
       " ['147', 'Batool', '90', '56', '79'],\n",
       " ['148', 'Iqra', '91', '33', '46'],\n",
       " ['149', 'Zarnish', '92', '78', '45'],\n",
       " ['150', 'Zara', '83', '45', '56']]"
      ]
     },
     "execution_count": 5,
     "metadata": {},
     "output_type": "execute_result"
    }
   ],
   "source": [
    "data = list(read)\n",
    "data"
   ]
  },
  {
   "cell_type": "code",
   "execution_count": 6,
   "id": "35d7467d-5b6f-4d42-ba2d-06fcbf9deb7a",
   "metadata": {},
   "outputs": [
    {
     "data": {
      "text/plain": [
       "['roll no', 'Name', 'Chemistry', 'Physics', 'Math']"
      ]
     },
     "execution_count": 6,
     "metadata": {},
     "output_type": "execute_result"
    }
   ],
   "source": [
    "cut = data[0]\n",
    "cut"
   ]
  },
  {
   "cell_type": "code",
   "execution_count": 7,
   "id": "ce27f658-9725-40fc-be0a-292739dab1f2",
   "metadata": {},
   "outputs": [
    {
     "data": {
      "text/plain": [
       "[['101', 'Aliza', '50', '23', '87'],\n",
       " ['102', 'Fareed', '45', '24', '88'],\n",
       " ['103', 'Basit', '46', '25', '89'],\n",
       " ['104', 'Abdullah', '47', '26', '90'],\n",
       " ['105', 'Ali', '48', '27', '67'],\n",
       " ['106', 'Mubashir', '49', '28', '68'],\n",
       " ['107', 'Waleed', '50', '29', '69'],\n",
       " ['108', 'Mansoor', '51', '30', '70'],\n",
       " ['109', 'Zain', '52', '31', '71'],\n",
       " ['110', 'Mohsin', '53', '67', '72'],\n",
       " ['111', 'Shahmeer', '54', '68', '73'],\n",
       " ['112', 'Rao', '55', '69', '74'],\n",
       " ['113', 'Aurangzeb', '56', '70', '75'],\n",
       " ['114', 'Zeeshan', '57', '71', '76'],\n",
       " ['115', 'Hamna', '58', '72', '77'],\n",
       " ['116', 'Hamza', '59', '73', '78'],\n",
       " ['117', 'Khalid', '60', '74', '79'],\n",
       " ['118', 'Behroz', '61', '75', '80'],\n",
       " ['119', 'Justin', '62', '76', '81'],\n",
       " ['120', 'Danish', '63', '77', '82'],\n",
       " ['121', 'Kainat', '64', '78', '83'],\n",
       " ['122', 'Sameer', '65', '79', '84'],\n",
       " ['123', 'Raza', '66', '80', '85'],\n",
       " ['124', 'Kumar', '67', '81', '86'],\n",
       " ['125', 'Komal', '68', '82', '87'],\n",
       " ['126', 'Erum', '69', '83', '88'],\n",
       " ['127', 'Faiza', '70', '84', '89'],\n",
       " ['128', 'Saeed', '71', '85', '90'],\n",
       " ['129', 'Waqar', '72', '86', '91'],\n",
       " ['130', 'Wali', '73', '87', '92'],\n",
       " ['131', 'Wajid', '74', '88', '93'],\n",
       " ['132', 'Waseeb', '75', '89', '94'],\n",
       " ['133', 'Shiza', '76', '90', '95'],\n",
       " ['134', 'Shabina', '77', '91', '96'],\n",
       " ['135', 'Shazain', '78', '55', '97'],\n",
       " ['136', 'Lubna', '79', '61', '98'],\n",
       " ['137', 'Laiba', '80', '88', '78'],\n",
       " ['138', 'Khursheed', '81', '56', '45'],\n",
       " ['139', 'Ali', '82', '89', '46'],\n",
       " ['140', 'Aiza', '83', '45', '89'],\n",
       " ['141', 'Aiman', '84', '92', '78'],\n",
       " ['142', 'Yasmeen', '85', '36', '56'],\n",
       " ['143', 'Tasbeel', '86', '78', '78'],\n",
       " ['144', 'Laraib', '87', '56', '54'],\n",
       " ['145', 'Saleem', '88', '78', '78'],\n",
       " ['146', 'Bismil', '89', '89', '46'],\n",
       " ['147', 'Batool', '90', '56', '79'],\n",
       " ['148', 'Iqra', '91', '33', '46'],\n",
       " ['149', 'Zarnish', '92', '78', '45'],\n",
       " ['150', 'Zara', '83', '45', '56']]"
      ]
     },
     "execution_count": 7,
     "metadata": {},
     "output_type": "execute_result"
    }
   ],
   "source": [
    "update_data = data[1:]\n",
    "update_data"
   ]
  },
  {
   "cell_type": "code",
   "execution_count": 8,
   "id": "feb9a84a-1c07-4274-8e6a-51fe51023924",
   "metadata": {},
   "outputs": [
    {
     "data": {
      "text/plain": [
       "'23'"
      ]
     },
     "execution_count": 8,
     "metadata": {},
     "output_type": "execute_result"
    }
   ],
   "source": [
    "update_data[0][3]"
   ]
  },
  {
   "cell_type": "code",
   "execution_count": 9,
   "id": "2e58f8ff-39b8-47d3-81fb-147b36d51b5c",
   "metadata": {},
   "outputs": [
    {
     "data": {
      "text/plain": [
       "[87,\n",
       " 88,\n",
       " 89,\n",
       " 90,\n",
       " 67,\n",
       " 68,\n",
       " 69,\n",
       " 70,\n",
       " 71,\n",
       " 72,\n",
       " 73,\n",
       " 74,\n",
       " 75,\n",
       " 76,\n",
       " 77,\n",
       " 78,\n",
       " 79,\n",
       " 80,\n",
       " 81,\n",
       " 82,\n",
       " 83,\n",
       " 84,\n",
       " 85,\n",
       " 86,\n",
       " 87,\n",
       " 88,\n",
       " 89,\n",
       " 90,\n",
       " 91,\n",
       " 92,\n",
       " 93,\n",
       " 94,\n",
       " 95,\n",
       " 96,\n",
       " 97,\n",
       " 98,\n",
       " 78,\n",
       " 45,\n",
       " 46,\n",
       " 89,\n",
       " 78,\n",
       " 56,\n",
       " 78,\n",
       " 54,\n",
       " 78,\n",
       " 46,\n",
       " 79,\n",
       " 46,\n",
       " 45,\n",
       " 56]"
      ]
     },
     "execution_count": 9,
     "metadata": {},
     "output_type": "execute_result"
    }
   ],
   "source": [
    "math = []\n",
    "for i in update_data:\n",
    "    math.append(int(i[4]))\n",
    "math"
   ]
  },
  {
   "cell_type": "code",
   "execution_count": 11,
   "id": "5dd68ac0-65f3-40c0-b58a-5ba9039aa9d7",
   "metadata": {},
   "outputs": [
    {
     "data": {
      "text/plain": [
       "3868"
      ]
     },
     "execution_count": 11,
     "metadata": {},
     "output_type": "execute_result"
    }
   ],
   "source": [
    "sum(math)"
   ]
  },
  {
   "cell_type": "code",
   "execution_count": 12,
   "id": "5ba2adea-7169-41f6-a358-230c60137cf3",
   "metadata": {},
   "outputs": [
    {
     "data": {
      "text/plain": [
       "77.36"
      ]
     },
     "execution_count": 12,
     "metadata": {},
     "output_type": "execute_result"
    }
   ],
   "source": [
    "average = sum(math)/len(math)\n",
    "average"
   ]
  },
  {
   "cell_type": "code",
   "execution_count": 13,
   "id": "8533897a-f012-4488-aa19-47a1b41652b8",
   "metadata": {},
   "outputs": [
    {
     "data": {
      "text/plain": [
       "[['101', 'Aliza', '50', '23', '87', 53],\n",
       " ['102', 'Fareed', '45', '24', '88', 52],\n",
       " ['103', 'Basit', '46', '25', '89', 53],\n",
       " ['104', 'Abdullah', '47', '26', '90', 54],\n",
       " ['105', 'Ali', '48', '27', '67', 47],\n",
       " ['106', 'Mubashir', '49', '28', '68', 48],\n",
       " ['107', 'Waleed', '50', '29', '69', 49],\n",
       " ['108', 'Mansoor', '51', '30', '70', 50],\n",
       " ['109', 'Zain', '52', '31', '71', 51],\n",
       " ['110', 'Mohsin', '53', '67', '72', 64],\n",
       " ['111', 'Shahmeer', '54', '68', '73', 65],\n",
       " ['112', 'Rao', '55', '69', '74', 66],\n",
       " ['113', 'Aurangzeb', '56', '70', '75', 67],\n",
       " ['114', 'Zeeshan', '57', '71', '76', 68],\n",
       " ['115', 'Hamna', '58', '72', '77', 69],\n",
       " ['116', 'Hamza', '59', '73', '78', 70],\n",
       " ['117', 'Khalid', '60', '74', '79', 71],\n",
       " ['118', 'Behroz', '61', '75', '80', 72],\n",
       " ['119', 'Justin', '62', '76', '81', 73],\n",
       " ['120', 'Danish', '63', '77', '82', 74],\n",
       " ['121', 'Kainat', '64', '78', '83', 75],\n",
       " ['122', 'Sameer', '65', '79', '84', 76],\n",
       " ['123', 'Raza', '66', '80', '85', 77],\n",
       " ['124', 'Kumar', '67', '81', '86', 78],\n",
       " ['125', 'Komal', '68', '82', '87', 79],\n",
       " ['126', 'Erum', '69', '83', '88', 80],\n",
       " ['127', 'Faiza', '70', '84', '89', 81],\n",
       " ['128', 'Saeed', '71', '85', '90', 82],\n",
       " ['129', 'Waqar', '72', '86', '91', 83],\n",
       " ['130', 'Wali', '73', '87', '92', 84],\n",
       " ['131', 'Wajid', '74', '88', '93', 85],\n",
       " ['132', 'Waseeb', '75', '89', '94', 86],\n",
       " ['133', 'Shiza', '76', '90', '95', 87],\n",
       " ['134', 'Shabina', '77', '91', '96', 88],\n",
       " ['135', 'Shazain', '78', '55', '97', 77],\n",
       " ['136', 'Lubna', '79', '61', '98', 79],\n",
       " ['137', 'Laiba', '80', '88', '78', 82],\n",
       " ['138', 'Khursheed', '81', '56', '45', 61],\n",
       " ['139', 'Ali', '82', '89', '46', 72],\n",
       " ['140', 'Aiza', '83', '45', '89', 72],\n",
       " ['141', 'Aiman', '84', '92', '78', 85],\n",
       " ['142', 'Yasmeen', '85', '36', '56', 59],\n",
       " ['143', 'Tasbeel', '86', '78', '78', 81],\n",
       " ['144', 'Laraib', '87', '56', '54', 66],\n",
       " ['145', 'Saleem', '88', '78', '78', 81],\n",
       " ['146', 'Bismil', '89', '89', '46', 75],\n",
       " ['147', 'Batool', '90', '56', '79', 75],\n",
       " ['148', 'Iqra', '91', '33', '46', 57],\n",
       " ['149', 'Zarnish', '92', '78', '45', 72],\n",
       " ['150', 'Zara', '83', '45', '56', 61]]"
      ]
     },
     "execution_count": 13,
     "metadata": {},
     "output_type": "execute_result"
    }
   ],
   "source": [
    "for p in update_data:\n",
    "    chem = int(p[2])\n",
    "    phy = int(p[3])\n",
    "    math = int(p[4])\n",
    "    percentage = round((chem+phy+math)/300*100)\n",
    "    p.append(percentage)\n",
    "\n",
    "update_data\n"
   ]
  },
  {
   "cell_type": "code",
   "execution_count": 14,
   "id": "817cb2e1-0702-40ee-a0f4-5d14377a1c33",
   "metadata": {},
   "outputs": [
    {
     "data": {
      "text/plain": [
       "[['roll no', 'Name', 'Chemistry', 'Physics', 'Math', 'percentage'],\n",
       " ['101', 'Aliza', '50', '23', '87', 53],\n",
       " ['102', 'Fareed', '45', '24', '88', 52],\n",
       " ['103', 'Basit', '46', '25', '89', 53],\n",
       " ['104', 'Abdullah', '47', '26', '90', 54],\n",
       " ['105', 'Ali', '48', '27', '67', 47],\n",
       " ['106', 'Mubashir', '49', '28', '68', 48],\n",
       " ['107', 'Waleed', '50', '29', '69', 49],\n",
       " ['108', 'Mansoor', '51', '30', '70', 50],\n",
       " ['109', 'Zain', '52', '31', '71', 51],\n",
       " ['110', 'Mohsin', '53', '67', '72', 64],\n",
       " ['111', 'Shahmeer', '54', '68', '73', 65],\n",
       " ['112', 'Rao', '55', '69', '74', 66],\n",
       " ['113', 'Aurangzeb', '56', '70', '75', 67],\n",
       " ['114', 'Zeeshan', '57', '71', '76', 68],\n",
       " ['115', 'Hamna', '58', '72', '77', 69],\n",
       " ['116', 'Hamza', '59', '73', '78', 70],\n",
       " ['117', 'Khalid', '60', '74', '79', 71],\n",
       " ['118', 'Behroz', '61', '75', '80', 72],\n",
       " ['119', 'Justin', '62', '76', '81', 73],\n",
       " ['120', 'Danish', '63', '77', '82', 74],\n",
       " ['121', 'Kainat', '64', '78', '83', 75],\n",
       " ['122', 'Sameer', '65', '79', '84', 76],\n",
       " ['123', 'Raza', '66', '80', '85', 77],\n",
       " ['124', 'Kumar', '67', '81', '86', 78],\n",
       " ['125', 'Komal', '68', '82', '87', 79],\n",
       " ['126', 'Erum', '69', '83', '88', 80],\n",
       " ['127', 'Faiza', '70', '84', '89', 81],\n",
       " ['128', 'Saeed', '71', '85', '90', 82],\n",
       " ['129', 'Waqar', '72', '86', '91', 83],\n",
       " ['130', 'Wali', '73', '87', '92', 84],\n",
       " ['131', 'Wajid', '74', '88', '93', 85],\n",
       " ['132', 'Waseeb', '75', '89', '94', 86],\n",
       " ['133', 'Shiza', '76', '90', '95', 87],\n",
       " ['134', 'Shabina', '77', '91', '96', 88],\n",
       " ['135', 'Shazain', '78', '55', '97', 77],\n",
       " ['136', 'Lubna', '79', '61', '98', 79],\n",
       " ['137', 'Laiba', '80', '88', '78', 82],\n",
       " ['138', 'Khursheed', '81', '56', '45', 61],\n",
       " ['139', 'Ali', '82', '89', '46', 72],\n",
       " ['140', 'Aiza', '83', '45', '89', 72],\n",
       " ['141', 'Aiman', '84', '92', '78', 85],\n",
       " ['142', 'Yasmeen', '85', '36', '56', 59],\n",
       " ['143', 'Tasbeel', '86', '78', '78', 81],\n",
       " ['144', 'Laraib', '87', '56', '54', 66],\n",
       " ['145', 'Saleem', '88', '78', '78', 81],\n",
       " ['146', 'Bismil', '89', '89', '46', 75],\n",
       " ['147', 'Batool', '90', '56', '79', 75],\n",
       " ['148', 'Iqra', '91', '33', '46', 57],\n",
       " ['149', 'Zarnish', '92', '78', '45', 72],\n",
       " ['150', 'Zara', '83', '45', '56', 61]]"
      ]
     },
     "execution_count": 14,
     "metadata": {},
     "output_type": "execute_result"
    }
   ],
   "source": [
    "data[0].append(\"percentage\")\n",
    "data"
   ]
  },
  {
   "cell_type": "code",
   "execution_count": 15,
   "id": "13905875-fe35-4448-83d8-9d39909e6e85",
   "metadata": {},
   "outputs": [
    {
     "data": {
      "text/plain": [
       "<_io.TextIOWrapper name='data1.csv' mode='w' encoding='cp1252'>"
      ]
     },
     "execution_count": 15,
     "metadata": {},
     "output_type": "execute_result"
    }
   ],
   "source": [
    "open_file = open(\"data1.csv\",mode='w',newline='')\n",
    "open_file"
   ]
  },
  {
   "cell_type": "code",
   "execution_count": 16,
   "id": "a4c80cad-65a2-47fe-9d3b-7e1049b7da6a",
   "metadata": {},
   "outputs": [
    {
     "data": {
      "text/plain": [
       "<_csv.writer at 0x1bc95469b40>"
      ]
     },
     "execution_count": 16,
     "metadata": {},
     "output_type": "execute_result"
    }
   ],
   "source": [
    "writer = csv.writer(open_file)\n",
    "writer"
   ]
  },
  {
   "cell_type": "code",
   "execution_count": 17,
   "id": "13ac5a94-e225-4bd9-a2e8-67db03209bde",
   "metadata": {},
   "outputs": [],
   "source": [
    "writer.writerows(data)\n",
    "open_file.close()"
   ]
  },
  {
   "cell_type": "code",
   "execution_count": null,
   "id": "63318c7b-d0ff-461d-ac9b-45c410e73b95",
   "metadata": {},
   "outputs": [],
   "source": []
  }
 ],
 "metadata": {
  "kernelspec": {
   "display_name": "Python 3 (ipykernel)",
   "language": "python",
   "name": "python3"
  },
  "language_info": {
   "codemirror_mode": {
    "name": "ipython",
    "version": 3
   },
   "file_extension": ".py",
   "mimetype": "text/x-python",
   "name": "python",
   "nbconvert_exporter": "python",
   "pygments_lexer": "ipython3",
   "version": "3.12.4"
  }
 },
 "nbformat": 4,
 "nbformat_minor": 5
}
