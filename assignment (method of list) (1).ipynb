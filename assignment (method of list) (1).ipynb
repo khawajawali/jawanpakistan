{
 "cells": [
  {
   "cell_type": "markdown",
   "id": "27647b02-68fe-498b-a010-ac2069d667ce",
   "metadata": {},
   "source": [
    "# METHODS OF LIST"
   ]
  },
  {
   "cell_type": "code",
   "execution_count": 1,
   "id": "befb2b48-29bf-4dd1-bf28-c419101cb459",
   "metadata": {},
   "outputs": [
    {
     "data": {
      "text/plain": [
       "['20k', '30k', '40k', '50k', '60k', '70k']"
      ]
     },
     "execution_count": 1,
     "metadata": {},
     "output_type": "execute_result"
    }
   ],
   "source": [
    "salaries = [\"20k\",\"30k\",\"40k\",\"50k\",\"60k\",\"70k\"]\n",
    "salaries"
   ]
  },
  {
   "cell_type": "markdown",
   "id": "6c22f21c-c66d-4260-be19-adae7785d96f",
   "metadata": {},
   "source": [
    "## APPEND"
   ]
  },
  {
   "cell_type": "code",
   "execution_count": 2,
   "id": "eaf53eb5-33ab-4818-9dd2-0625ba8fccd4",
   "metadata": {},
   "outputs": [
    {
     "data": {
      "text/plain": [
       "['20k', '30k', '40k', '50k', '60k', '70k', '90k']"
      ]
     },
     "execution_count": 2,
     "metadata": {},
     "output_type": "execute_result"
    }
   ],
   "source": [
    "salaries.append(\"90k\")\n",
    "salaries"
   ]
  },
  {
   "cell_type": "markdown",
   "id": "033abe8e-b3da-4d72-ad20-c0a84ad1bdcd",
   "metadata": {},
   "source": [
    "## INSERT"
   ]
  },
  {
   "cell_type": "code",
   "execution_count": 3,
   "id": "e5165119-5f7d-4062-9bcd-3c5bed4ea46e",
   "metadata": {},
   "outputs": [
    {
     "data": {
      "text/plain": [
       "['20k', '30k', '35k', '40k', '50k', '60k', '70k', '90k']"
      ]
     },
     "execution_count": 3,
     "metadata": {},
     "output_type": "execute_result"
    }
   ],
   "source": [
    "salaries.insert(2,\"35k\")\n",
    "salaries"
   ]
  },
  {
   "cell_type": "markdown",
   "id": "b3749f77-6dc3-4cd6-8c5f-7ff4f8aa780a",
   "metadata": {},
   "source": [
    "## REMOVE"
   ]
  },
  {
   "cell_type": "code",
   "execution_count": 4,
   "id": "a7c24704-b66b-40db-9ef0-cafe661de249",
   "metadata": {},
   "outputs": [
    {
     "data": {
      "text/plain": [
       "['20k', '30k', '40k', '50k', '60k', '70k', '90k']"
      ]
     },
     "execution_count": 4,
     "metadata": {},
     "output_type": "execute_result"
    }
   ],
   "source": [
    "salaries.remove(\"35k\")\n",
    "salaries"
   ]
  },
  {
   "cell_type": "markdown",
   "id": "7a31993e-5174-4043-a3b4-ce521d085119",
   "metadata": {},
   "source": [
    "## REVERSE"
   ]
  },
  {
   "cell_type": "code",
   "execution_count": 5,
   "id": "7fdc49a1-aabe-4dfe-944a-750ac63a2a7a",
   "metadata": {},
   "outputs": [
    {
     "data": {
      "text/plain": [
       "['90k', '70k', '60k', '50k', '40k', '30k', '20k']"
      ]
     },
     "execution_count": 5,
     "metadata": {},
     "output_type": "execute_result"
    }
   ],
   "source": [
    "salaries.reverse()\n",
    "salaries"
   ]
  },
  {
   "cell_type": "markdown",
   "id": "8eda0306-3910-4113-abf5-127656fc9001",
   "metadata": {},
   "source": [
    "## POP"
   ]
  },
  {
   "cell_type": "code",
   "execution_count": 6,
   "id": "f39c9f79-e342-499e-a357-fdd0c5b70abb",
   "metadata": {},
   "outputs": [
    {
     "data": {
      "text/plain": [
       "'60k'"
      ]
     },
     "execution_count": 6,
     "metadata": {},
     "output_type": "execute_result"
    }
   ],
   "source": [
    "salaries.pop(2)"
   ]
  },
  {
   "cell_type": "markdown",
   "id": "8b797acd-fbd0-436c-b0cb-b6589486189b",
   "metadata": {},
   "source": [
    "## INDEX"
   ]
  },
  {
   "cell_type": "code",
   "execution_count": 7,
   "id": "fd2c64fc-c695-4cdc-bcc4-30e2a51739c6",
   "metadata": {},
   "outputs": [
    {
     "data": {
      "text/plain": [
       "4"
      ]
     },
     "execution_count": 7,
     "metadata": {},
     "output_type": "execute_result"
    }
   ],
   "source": [
    "salaries.index(\"30k\")"
   ]
  },
  {
   "cell_type": "code",
   "execution_count": 8,
   "id": "f8b02b06-61a6-4bd7-a896-6eee8262837a",
   "metadata": {},
   "outputs": [
    {
     "data": {
      "text/plain": [
       "['90k', '70k', '60k', '50k', '40k', '30k', '20k', '60k', '90k', '20k', '60k']"
      ]
     },
     "execution_count": 8,
     "metadata": {},
     "output_type": "execute_result"
    }
   ],
   "source": [
    "salaries2=['90k', '70k', '60k', '50k', '40k', '30k', '20k', '60k', '90k', '20k', '60k']\n",
    "salaries2"
   ]
  },
  {
   "cell_type": "markdown",
   "id": "8deffaff-3890-412e-ae63-6fd5343dcd8f",
   "metadata": {},
   "source": [
    "## COUNT"
   ]
  },
  {
   "cell_type": "code",
   "execution_count": 9,
   "id": "c2c33c8c-08fe-4e71-a509-5629cc9545f0",
   "metadata": {},
   "outputs": [
    {
     "data": {
      "text/plain": [
       "3"
      ]
     },
     "execution_count": 9,
     "metadata": {},
     "output_type": "execute_result"
    }
   ],
   "source": [
    "salaries2.count('60k')"
   ]
  },
  {
   "cell_type": "markdown",
   "id": "3b9ee349-7991-4980-8964-27e4b059877f",
   "metadata": {},
   "source": [
    "## SORT"
   ]
  },
  {
   "cell_type": "code",
   "execution_count": 10,
   "id": "e7277cab-66f6-4781-84b1-2e1ef7af8a87",
   "metadata": {},
   "outputs": [
    {
     "data": {
      "text/plain": [
       "['20k', '20k', '30k', '40k', '50k', '60k', '60k', '60k', '70k', '90k', '90k']"
      ]
     },
     "execution_count": 10,
     "metadata": {},
     "output_type": "execute_result"
    }
   ],
   "source": [
    "salaries2.sort()\n",
    "salaries2"
   ]
  },
  {
   "cell_type": "markdown",
   "id": "24090c7d-afa1-41f0-bebf-4d96e5e00180",
   "metadata": {
    "jp-MarkdownHeadingCollapsed": true
   },
   "source": [
    "## CLEAR"
   ]
  },
  {
   "cell_type": "code",
   "execution_count": 11,
   "id": "2e7a92fb-4004-49ce-9d7e-593eb5cccf2f",
   "metadata": {},
   "outputs": [
    {
     "data": {
      "text/plain": [
       "[]"
      ]
     },
     "execution_count": 11,
     "metadata": {},
     "output_type": "execute_result"
    }
   ],
   "source": [
    "salaries2.clear()\n",
    "salaries2"
   ]
  },
  {
   "cell_type": "markdown",
   "id": "24ff128f-5eec-48cc-8dc1-1e233b6b9969",
   "metadata": {},
   "source": [
    "## list and listm"
   ]
  },
  {
   "cell_type": "code",
   "execution_count": 12,
   "id": "cbd8efae-df4d-41e4-9fb2-c9d3010ebc41",
   "metadata": {},
   "outputs": [
    {
     "data": {
      "text/plain": [
       "['20k', '30k', '40k', '50k', '60k', '70k', '80k']"
      ]
     },
     "execution_count": 12,
     "metadata": {},
     "output_type": "execute_result"
    }
   ],
   "source": [
    "update_salaries = ['20k', '30k', '40k', '50k', '60k', '70k', '80k']\n",
    "update_salaries"
   ]
  },
  {
   "cell_type": "code",
   "execution_count": 13,
   "id": "fc809ecc-88e0-449d-bf1b-0bd393c391c7",
   "metadata": {},
   "outputs": [
    {
     "data": {
      "text/plain": [
       "['25k', '35k']"
      ]
     },
     "execution_count": 13,
     "metadata": {},
     "output_type": "execute_result"
    }
   ],
   "source": [
    "update_salaries2 = ['25k', '35k']\n",
    "update_salaries2"
   ]
  },
  {
   "cell_type": "code",
   "execution_count": 14,
   "id": "60eeff9a-9882-4d51-b533-0ba5e57a2c9e",
   "metadata": {},
   "outputs": [
    {
     "data": {
      "text/plain": [
       "['10k',\n",
       " ['20k', '30k', '40k', '50k', '60k', '70k', '80k'],\n",
       " ['25k', '35k'],\n",
       " '90k']"
      ]
     },
     "execution_count": 14,
     "metadata": {},
     "output_type": "execute_result"
    }
   ],
   "source": [
    "update_salaries3 = ['10k', update_salaries, update_salaries2, '90k']\n",
    "update_salaries3"
   ]
  },
  {
   "cell_type": "code",
   "execution_count": null,
   "id": "5944cbca-0cd9-488b-a690-682de92496d2",
   "metadata": {},
   "outputs": [],
   "source": []
  },
  {
   "cell_type": "code",
   "execution_count": 15,
   "id": "3e019684-e40a-4e47-bc3c-df606a10f06f",
   "metadata": {},
   "outputs": [
    {
     "data": {
      "text/plain": [
       "'50k'"
      ]
     },
     "execution_count": 15,
     "metadata": {},
     "output_type": "execute_result"
    }
   ],
   "source": [
    "update_salaries3[1][3]"
   ]
  },
  {
   "cell_type": "code",
   "execution_count": null,
   "id": "7100a050-df8c-4420-809c-ecafa9128b3f",
   "metadata": {},
   "outputs": [],
   "source": []
  },
  {
   "cell_type": "code",
   "execution_count": null,
   "id": "3572fc03-139b-4401-a01b-78ac706016f2",
   "metadata": {},
   "outputs": [],
   "source": []
  },
  {
   "cell_type": "markdown",
   "id": "230fbe8e-21b5-450e-b2e9-bbf62416f843",
   "metadata": {},
   "source": [
    "# MARKSHEET"
   ]
  },
  {
   "cell_type": "code",
   "execution_count": 16,
   "id": "b2f2732d-4ef5-4f6d-9f1b-58695936ad17",
   "metadata": {},
   "outputs": [
    {
     "name": "stdin",
     "output_type": "stream",
     "text": [
      " 86\n"
     ]
    },
    {
     "data": {
      "text/plain": [
       "'86'"
      ]
     },
     "execution_count": 16,
     "metadata": {},
     "output_type": "execute_result"
    }
   ],
   "source": [
    "\"Enter your phy marks\"\n",
    "input()"
   ]
  },
  {
   "cell_type": "code",
   "execution_count": 17,
   "id": "e63d6c1f-bb5a-4278-93aa-a38292ceacd3",
   "metadata": {},
   "outputs": [
    {
     "name": "stdin",
     "output_type": "stream",
     "text": [
      " 75\n"
     ]
    },
    {
     "data": {
      "text/plain": [
       "'75'"
      ]
     },
     "execution_count": 17,
     "metadata": {},
     "output_type": "execute_result"
    }
   ],
   "source": [
    "\"Enter your chem marks\"\n",
    "input()"
   ]
  },
  {
   "cell_type": "code",
   "execution_count": 18,
   "id": "4d33d05b-b36e-4d50-bd50-b47de2a5b4af",
   "metadata": {},
   "outputs": [
    {
     "name": "stdin",
     "output_type": "stream",
     "text": [
      " 67\n"
     ]
    },
    {
     "data": {
      "text/plain": [
       "'67'"
      ]
     },
     "execution_count": 18,
     "metadata": {},
     "output_type": "execute_result"
    }
   ],
   "source": [
    "\"Enter your comp marks\"\n",
    "input()"
   ]
  },
  {
   "cell_type": "code",
   "execution_count": 19,
   "id": "58bee036-9d10-4dc3-a809-e73276c9d7fe",
   "metadata": {},
   "outputs": [
    {
     "name": "stdin",
     "output_type": "stream",
     "text": [
      " 57\n"
     ]
    },
    {
     "data": {
      "text/plain": [
       "'57'"
      ]
     },
     "execution_count": 19,
     "metadata": {},
     "output_type": "execute_result"
    }
   ],
   "source": [
    "\"Enter your eng marks\"\n",
    "input()"
   ]
  },
  {
   "cell_type": "code",
   "execution_count": 20,
   "id": "b2568089-9aea-4227-9465-f814d2b13112",
   "metadata": {},
   "outputs": [
    {
     "name": "stdin",
     "output_type": "stream",
     "text": [
      " 57\n"
     ]
    },
    {
     "data": {
      "text/plain": [
       "'57'"
      ]
     },
     "execution_count": 20,
     "metadata": {},
     "output_type": "execute_result"
    }
   ],
   "source": [
    "\"Enter your sci marks\"\n",
    "input()"
   ]
  },
  {
   "cell_type": "code",
   "execution_count": 23,
   "id": "c2992a74-200f-4e9a-bf54-5d9a18c56da4",
   "metadata": {},
   "outputs": [],
   "source": [
    "obtain_marks= 1000\n",
    "total_marks = 1500"
   ]
  },
  {
   "cell_type": "code",
   "execution_count": 24,
   "id": "22ee684d-579b-4b28-89e6-b6457d130c41",
   "metadata": {},
   "outputs": [
    {
     "name": "stdout",
     "output_type": "stream",
     "text": [
      "C\n"
     ]
    }
   ],
   "source": [
    "if obtain_marks>=1300:\n",
    "    print(\"A\")\n",
    "\n",
    "elif obtain_marks>=1100:\n",
    "    print(\"B\")\n",
    "\n",
    "elif obtain_marks>=950:\n",
    "    print(\"C\")\n",
    "\n",
    "elif obtain_marks>=700:\n",
    "    print(\"D\")\n",
    "\n",
    "else:\n",
    "    printt(\"FAIL\")"
   ]
  },
  {
   "cell_type": "code",
   "execution_count": null,
   "id": "8f34cac8-64bb-4a72-8769-cb2ed62255b9",
   "metadata": {},
   "outputs": [],
   "source": []
  }
 ],
 "metadata": {
  "kernelspec": {
   "display_name": "Python 3 (ipykernel)",
   "language": "python",
   "name": "python3"
  },
  "language_info": {
   "codemirror_mode": {
    "name": "ipython",
    "version": 3
   },
   "file_extension": ".py",
   "mimetype": "text/x-python",
   "name": "python",
   "nbconvert_exporter": "python",
   "pygments_lexer": "ipython3",
   "version": "3.12.4"
  }
 },
 "nbformat": 4,
 "nbformat_minor": 5
}
