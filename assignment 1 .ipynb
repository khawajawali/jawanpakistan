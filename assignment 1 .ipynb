{
 "cells": [
  {
   "cell_type": "markdown",
   "id": "d97874f8-0b95-48ec-b26f-0a04c26a188b",
   "metadata": {},
   "source": [
    "### 4.1"
   ]
  },
  {
   "cell_type": "code",
   "execution_count": 74,
   "id": "69215608-b1c1-4463-a368-97aadd7b01e5",
   "metadata": {},
   "outputs": [
    {
     "data": {
      "text/plain": [
       "['ahmed', 'anas', 'rayyan']"
      ]
     },
     "execution_count": 74,
     "metadata": {},
     "output_type": "execute_result"
    }
   ],
   "source": [
    "guest_list= [\"ahmed\", \"anas\", \"rayyan\"]\n",
    "guest_list"
   ]
  },
  {
   "cell_type": "code",
   "execution_count": 75,
   "id": "1807a577-5794-41c7-a791-700149ed1413",
   "metadata": {},
   "outputs": [
    {
     "name": "stdout",
     "output_type": "stream",
     "text": [
      "ahmed plz come to dinner\n",
      "anas plz come to dinner\n",
      "rayyan plz come to dinner\n"
     ]
    }
   ],
   "source": [
    "print(\"ahmed plz come to dinner\")\n",
    "print(\"anas plz come to dinner\")\n",
    "print(\"rayyan plz come to dinner\")"
   ]
  },
  {
   "cell_type": "code",
   "execution_count": 76,
   "id": "35211b41-0cf6-41f7-9d24-7c029b2ec904",
   "metadata": {},
   "outputs": [
    {
     "name": "stdout",
     "output_type": "stream",
     "text": [
      "ahmed can not come\n"
     ]
    }
   ],
   "source": [
    "print(\"ahmed can not come\")"
   ]
  },
  {
   "cell_type": "markdown",
   "id": "7df56098-e6e5-477a-a477-1127212c9a3c",
   "metadata": {},
   "source": [
    "### 4.2"
   ]
  },
  {
   "cell_type": "code",
   "execution_count": 77,
   "id": "5db10ed9-259b-4e78-bbb4-37e7fb7cf7ba",
   "metadata": {},
   "outputs": [
    {
     "data": {
      "text/plain": [
       "['saif', 'anas', 'rayyan']"
      ]
     },
     "execution_count": 77,
     "metadata": {},
     "output_type": "execute_result"
    }
   ],
   "source": [
    "new_guest_list= [\"saif\", \"anas\", \"rayyan\"]\n",
    "new_guest_list"
   ]
  },
  {
   "cell_type": "code",
   "execution_count": 78,
   "id": "68ecc345-5efe-4b51-960c-977f67f73898",
   "metadata": {},
   "outputs": [
    {
     "name": "stdout",
     "output_type": "stream",
     "text": [
      "saif plz come to dinner\n",
      "anas plz come to dinner\n",
      "rayyan plz come to dinner\n"
     ]
    }
   ],
   "source": [
    "print(\"saif plz come to dinner\")\n",
    "print(\"anas plz come to dinner\")\n",
    "print(\"rayyan plz come to dinner\")"
   ]
  },
  {
   "cell_type": "code",
   "execution_count": 79,
   "id": "9fa67056-4068-4b61-ae32-616d63223997",
   "metadata": {},
   "outputs": [
    {
     "name": "stdout",
     "output_type": "stream",
     "text": [
      "i just found a bigger dinner tablae, so ow more space is availiblae now\n"
     ]
    }
   ],
   "source": [
    "print(\"i just found a bigger dinner tablae, so ow more space is availiblae now\")"
   ]
  },
  {
   "cell_type": "markdown",
   "id": "2894b7c8-e252-4519-8c7f-ab8f0193cf68",
   "metadata": {},
   "source": [
    "### 4.3"
   ]
  },
  {
   "cell_type": "code",
   "execution_count": 80,
   "id": "acf5914b-47dd-499d-9c13-0a26f7880311",
   "metadata": {},
   "outputs": [
    {
     "data": {
      "text/plain": [
       "['hanzala', 'saif', 'anas', 'rayyan']"
      ]
     },
     "execution_count": 80,
     "metadata": {},
     "output_type": "execute_result"
    }
   ],
   "source": [
    "new_guest_list.insert(0, \"hanzala\")\n",
    "new_guest_list"
   ]
  },
  {
   "cell_type": "code",
   "execution_count": 81,
   "id": "10b4d574-bd0f-4baa-8d7f-dfdeb7ea442d",
   "metadata": {},
   "outputs": [
    {
     "data": {
      "text/plain": [
       "['hanzala', 'saif', 'sohail', 'anas', 'rayyan']"
      ]
     },
     "execution_count": 81,
     "metadata": {},
     "output_type": "execute_result"
    }
   ],
   "source": [
    "new_guest_list.insert(2, \"sohail\")\n",
    "new_guest_list"
   ]
  },
  {
   "cell_type": "code",
   "execution_count": 82,
   "id": "01dafa4d-324a-4259-b6c2-e13838bbbb13",
   "metadata": {
    "scrolled": true
   },
   "outputs": [
    {
     "data": {
      "text/plain": [
       "['hanzala', 'saif', 'sohail', 'anas', 'rayyan', 'khawaja']"
      ]
     },
     "execution_count": 82,
     "metadata": {},
     "output_type": "execute_result"
    }
   ],
   "source": [
    "new_guest_list.append(\"khawaja\")\n",
    "new_guest_list"
   ]
  },
  {
   "cell_type": "code",
   "execution_count": 83,
   "id": "0881147a-d619-4fbe-964b-18da8c6a132b",
   "metadata": {
    "scrolled": true
   },
   "outputs": [
    {
     "name": "stdout",
     "output_type": "stream",
     "text": [
      "saif plz come to dinner\n",
      "anas plz come to dinner\n",
      "rayyan plz come to dinner\n",
      "hanzala plz come to dinner\n",
      "khawaja plz come to dinner\n",
      "sohail plz come to dinner\n"
     ]
    }
   ],
   "source": [
    "print(\"saif plz come to dinner\")\n",
    "print(\"anas plz come to dinner\")\n",
    "print(\"rayyan plz come to dinner\")\n",
    "print(\"hanzala plz come to dinner\")\n",
    "print(\"khawaja plz come to dinner\")\n",
    "print(\"sohail plz come to dinner\")"
   ]
  },
  {
   "cell_type": "code",
   "execution_count": 84,
   "id": "48188b07-c350-41e4-905f-72693298abd2",
   "metadata": {},
   "outputs": [
    {
     "name": "stdout",
     "output_type": "stream",
     "text": [
      "sorry boys i just found that dinner tablae is not ready\n"
     ]
    }
   ],
   "source": [
    "print(\"sorry boys i just found that dinner tablae is not ready\")"
   ]
  },
  {
   "cell_type": "markdown",
   "id": "107ae602-0825-4d2b-9938-922a86e78c42",
   "metadata": {},
   "source": [
    "### 4.3"
   ]
  },
  {
   "cell_type": "code",
   "execution_count": 85,
   "id": "a62fa2fb-fa0c-423c-871f-d316acb0b018",
   "metadata": {},
   "outputs": [
    {
     "name": "stdout",
     "output_type": "stream",
     "text": [
      "i can invite only two guest\n"
     ]
    }
   ],
   "source": [
    "print(\"i can invite only two guest\")"
   ]
  },
  {
   "cell_type": "code",
   "execution_count": 90,
   "id": "fbe2841e-027e-4e83-b89b-0c2f5146cab5",
   "metadata": {},
   "outputs": [
    {
     "name": "stdout",
     "output_type": "stream",
     "text": [
      "i am sorry i can't invite you\n"
     ]
    }
   ],
   "source": [
    "new_guest_list.pop(0)\n",
    "print(\"i am sorry i can't invite you\")"
   ]
  },
  {
   "cell_type": "code",
   "execution_count": 87,
   "id": "21d49f3f-1d23-452c-a3f1-12aa7f15d8f0",
   "metadata": {},
   "outputs": [
    {
     "name": "stdout",
     "output_type": "stream",
     "text": [
      "i am sorry i can't invite you\n"
     ]
    }
   ],
   "source": [
    "new_guest_list.pop(1)\n",
    "print(\"i am sorry i can't invite you\")"
   ]
  },
  {
   "cell_type": "code",
   "execution_count": 88,
   "id": "b6d99b54-6db2-4ec6-b86b-623d937e3cf3",
   "metadata": {},
   "outputs": [
    {
     "name": "stdout",
     "output_type": "stream",
     "text": [
      "i am sorry i can't invite you\n"
     ]
    }
   ],
   "source": [
    "new_guest_list.pop(2)\n",
    "print(\"i am sorry i can't invite you\")"
   ]
  },
  {
   "cell_type": "code",
   "execution_count": 89,
   "id": "f2acf026-d11c-4427-9b22-f44f5c027b4c",
   "metadata": {
    "scrolled": true
   },
   "outputs": [
    {
     "name": "stdout",
     "output_type": "stream",
     "text": [
      "i am sorry i can't invite you\n"
     ]
    }
   ],
   "source": [
    "new_guest_list.pop(3)\n",
    "print(\"i am sorry i can't invite you\")"
   ]
  },
  {
   "cell_type": "code",
   "execution_count": 91,
   "id": "b627e8b9-4d47-477b-8de7-71485029164e",
   "metadata": {},
   "outputs": [
    {
     "data": {
      "text/plain": [
       "['sohail', 'rayyan']"
      ]
     },
     "execution_count": 91,
     "metadata": {},
     "output_type": "execute_result"
    }
   ],
   "source": [
    "new_guest_list"
   ]
  },
  {
   "cell_type": "code",
   "execution_count": 92,
   "id": "6eacd32d-05ae-4bbb-8ee0-68792b1e1bcf",
   "metadata": {},
   "outputs": [
    {
     "name": "stdout",
     "output_type": "stream",
     "text": [
      "sohail you are still invited for dinner\n",
      "rayyan you are still invited for dinner\n"
     ]
    }
   ],
   "source": [
    "print(\"sohail you are still invited for dinner\")\n",
    "print(\"rayyan you are still invited for dinner\")"
   ]
  },
  {
   "cell_type": "code",
   "execution_count": 96,
   "id": "bce79c3e-9b7a-4e15-b102-379521b0f335",
   "metadata": {},
   "outputs": [],
   "source": [
    "new_guest_list.clear()"
   ]
  },
  {
   "cell_type": "code",
   "execution_count": 97,
   "id": "e4f23a8c-f606-455a-9093-01244f711dad",
   "metadata": {},
   "outputs": [
    {
     "data": {
      "text/plain": [
       "[]"
      ]
     },
     "execution_count": 97,
     "metadata": {},
     "output_type": "execute_result"
    }
   ],
   "source": [
    "new_guest_list"
   ]
  },
  {
   "cell_type": "markdown",
   "id": "04f92ceb-bcc3-4ac9-b76b-cc5c71182c7d",
   "metadata": {},
   "source": [
    "### 4.5"
   ]
  },
  {
   "cell_type": "code",
   "execution_count": 98,
   "id": "76b40a9e-9322-46a0-aaa2-6997ec276a07",
   "metadata": {},
   "outputs": [
    {
     "data": {
      "text/plain": [
       "['20k', '30k', '40k', '50k', '60k', '70k', '80k']"
      ]
     },
     "execution_count": 98,
     "metadata": {},
     "output_type": "execute_result"
    }
   ],
   "source": [
    "update_salaries = ['20k', '30k', '40k', '50k', '60k', '70k', '80k']\n",
    "update_salaries"
   ]
  },
  {
   "cell_type": "code",
   "execution_count": 100,
   "id": "7c7aa1dd-690b-4705-bdf2-c31536965fda",
   "metadata": {},
   "outputs": [
    {
     "data": {
      "text/plain": [
       "['25k', '35k']"
      ]
     },
     "execution_count": 100,
     "metadata": {},
     "output_type": "execute_result"
    }
   ],
   "source": [
    "update_salaries2 = ['25k', '35k']\n",
    "update_salaries2"
   ]
  },
  {
   "cell_type": "code",
   "execution_count": 102,
   "id": "d2610095-96f1-4c1e-9287-6c48fe7aab6c",
   "metadata": {},
   "outputs": [
    {
     "data": {
      "text/plain": [
       "['10k',\n",
       " ['20k', '30k', '40k', '50k', '60k', '70k', '80k'],\n",
       " ['25k', '35k'],\n",
       " '90k']"
      ]
     },
     "execution_count": 102,
     "metadata": {},
     "output_type": "execute_result"
    }
   ],
   "source": [
    "update_salaries3 = ['10k', update_salaries, update_salaries2, '90k']\n",
    "update_salaries3"
   ]
  },
  {
   "cell_type": "code",
   "execution_count": null,
   "id": "f7ab6807-7bf3-42da-8046-4a2ec22fb2be",
   "metadata": {},
   "outputs": [],
   "source": []
  },
  {
   "cell_type": "code",
   "execution_count": 103,
   "id": "30902b49-2cf3-4543-86dd-865dc08fd4e4",
   "metadata": {},
   "outputs": [
    {
     "data": {
      "text/plain": [
       "'50k'"
      ]
     },
     "execution_count": 103,
     "metadata": {},
     "output_type": "execute_result"
    }
   ],
   "source": [
    "update_salaries3[1][3]"
   ]
  },
  {
   "cell_type": "code",
   "execution_count": null,
   "id": "bd4f388f-ef8d-4d14-a0db-1d21f6bc69ba",
   "metadata": {},
   "outputs": [],
   "source": []
  },
  {
   "cell_type": "code",
   "execution_count": null,
   "id": "3811e79b-bdea-4d16-ab21-a51dc55ca0d6",
   "metadata": {},
   "outputs": [],
   "source": []
  },
  {
   "cell_type": "markdown",
   "id": "b8d21309-981e-4f13-8466-555c9b89ef62",
   "metadata": {},
   "source": [
    "# marksheet"
   ]
  },
  {
   "cell_type": "code",
   "execution_count": null,
   "id": "000cc74a-7b2f-415c-9c3e-a62c63675256",
   "metadata": {},
   "outputs": [],
   "source": []
  },
  {
   "cell_type": "code",
   "execution_count": 104,
   "id": "dd4ab091-3753-4aee-8ca3-f6f3a9bb156d",
   "metadata": {},
   "outputs": [
    {
     "name": "stdin",
     "output_type": "stream",
     "text": [
      " 98\n"
     ]
    },
    {
     "data": {
      "text/plain": [
       "'98'"
      ]
     },
     "execution_count": 104,
     "metadata": {},
     "output_type": "execute_result"
    }
   ],
   "source": [
    "\"Enter your phy marks\"\n",
    "input()"
   ]
  },
  {
   "cell_type": "code",
   "execution_count": 105,
   "id": "d23379ed-d6a8-4d58-b44a-ba3e2a2256c0",
   "metadata": {},
   "outputs": [
    {
     "name": "stdin",
     "output_type": "stream",
     "text": [
      " 98\n"
     ]
    },
    {
     "data": {
      "text/plain": [
       "'98'"
      ]
     },
     "execution_count": 105,
     "metadata": {},
     "output_type": "execute_result"
    }
   ],
   "source": [
    "\"Enter your chem marks\"\n",
    "input()"
   ]
  },
  {
   "cell_type": "code",
   "execution_count": 106,
   "id": "48be4ab6-30a8-49b6-af14-cfa763b2f91b",
   "metadata": {},
   "outputs": [
    {
     "name": "stdin",
     "output_type": "stream",
     "text": [
      " 87\n"
     ]
    },
    {
     "data": {
      "text/plain": [
       "'87'"
      ]
     },
     "execution_count": 106,
     "metadata": {},
     "output_type": "execute_result"
    }
   ],
   "source": [
    "\"Enter your eng marks\"\n",
    "input()"
   ]
  },
  {
   "cell_type": "code",
   "execution_count": null,
   "id": "8c4592f9-1e47-464c-a8e4-5a9b1c7790b0",
   "metadata": {},
   "outputs": [],
   "source": []
  }
 ],
 "metadata": {
  "kernelspec": {
   "display_name": "Python 3 (ipykernel)",
   "language": "python",
   "name": "python3"
  },
  "language_info": {
   "codemirror_mode": {
    "name": "ipython",
    "version": 3
   },
   "file_extension": ".py",
   "mimetype": "text/x-python",
   "name": "python",
   "nbconvert_exporter": "python",
   "pygments_lexer": "ipython3",
   "version": "3.12.4"
  }
 },
 "nbformat": 4,
 "nbformat_minor": 5
}
